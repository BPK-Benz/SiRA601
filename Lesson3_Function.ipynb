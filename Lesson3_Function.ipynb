{
  "nbformat": 4,
  "nbformat_minor": 0,
  "metadata": {
    "colab": {
      "provenance": [],
      "collapsed_sections": [
        "vtBiVNM6BuX6",
        "KGLYzUuPFGdH",
        "agn3pITfGXeA"
      ]
    },
    "kernelspec": {
      "name": "python3",
      "display_name": "Python 3"
    },
    "language_info": {
      "name": "python"
    }
  },
  "cells": [
    {
      "cell_type": "code",
      "source": [
        "from google.colab import drive\n",
        "drive.mount('/content/drive')\n",
        "%cd /content/drive/MyDrive/SIRA_601/MyCode"
      ],
      "metadata": {
        "id": "vM0AgL0HmPry"
      },
      "execution_count": null,
      "outputs": []
    },
    {
      "cell_type": "code",
      "source": [
        "import numpy as np\n",
        "import matplotlib.pyplot as plt\n",
        "from skimage.data import shepp_logan_phantom\n",
        "from skimage.transform import radon\n",
        "import matplotlib.animation as animation\n",
        "from skimage.draw import rectangle\n",
        "from skimage.draw import polygon"
      ],
      "metadata": {
        "id": "sacvmDnXMz6D"
      },
      "execution_count": null,
      "outputs": []
    },
    {
      "cell_type": "markdown",
      "source": [
        "# Functions in python?"
      ],
      "metadata": {
        "id": "vtBiVNM6BuX6"
      }
    },
    {
      "cell_type": "code",
      "source": [
        "import matplotlib.pyplot as plt\n",
        "\n",
        "def input_scores():\n",
        "    \"\"\"รับคะแนนจากผู้ใช้แล้วคืนเป็น list\"\"\"\n",
        "    scores = []\n",
        "    print(\"Enter scores for 3 subjects:\")\n",
        "    for i in range(3):\n",
        "        score = float(input(f\"Subject {i + 1}: \"))\n",
        "        scores.append(score)\n",
        "    return scores\n",
        "\n",
        "def calculate_average(scores):\n",
        "    \"\"\"คำนวณค่าเฉลี่ยจาก list ของคะแนน\"\"\"\n",
        "    return sum(scores) / len(scores)\n",
        "\n",
        "def classify_result(average):\n",
        "    \"\"\"ให้ผลการประเมินผ่าน/ไม่ผ่านตามค่าเฉลี่ย\"\"\"\n",
        "    if average >= 60:\n",
        "        return \"Pass\"\n",
        "    else:\n",
        "        return \"Fail\"\n",
        "\n",
        "def display_result(average, status):\n",
        "    \"\"\"แสดงผลคะแนนเฉลี่ยและผลการประเมิน\"\"\"\n",
        "    print(f\"\\nAverage Score: {average:.2f}\")\n",
        "    print(f\"Result: {status}\")\n",
        "\n",
        "def plot_scores(scores, average):\n",
        "    \"\"\"สร้างกราฟแสดงคะแนนของแต่ละวิชาและเส้นค่าเฉลี่ย\"\"\"\n",
        "    subjects = ['Subject 1', 'Subject 2', 'Subject 3']\n",
        "    plt.figure(figsize=(8, 5))\n",
        "    plt.bar(subjects, scores, color='skyblue', label='Score')\n",
        "    plt.axhline(y=average, color='red', linestyle='--', label=f'Average = {average:.2f}')\n",
        "    plt.ylim(0, 100)\n",
        "    plt.title('Student Scores')\n",
        "    plt.ylabel('Score')\n",
        "    plt.legend()\n",
        "    plt.grid(axis='y', linestyle=':', alpha=0.7)\n",
        "    plt.tight_layout()\n",
        "    plt.show()\n",
        "\n",
        "def main():\n",
        "    scores = input_scores()\n",
        "    avg = calculate_average(scores)\n",
        "    result = classify_result(avg)\n",
        "    display_result(avg, result)\n",
        "    plot_scores(scores, avg)\n",
        "\n",
        "# เรียกใช้งาน\n",
        "main()\n"
      ],
      "metadata": {
        "id": "UfUXrseSxVcr"
      },
      "execution_count": null,
      "outputs": []
    },
    {
      "cell_type": "code",
      "source": [
        "import matplotlib.pyplot as plt\n",
        "\n",
        "def get_scores():\n",
        "    \"\"\"คืน dictionary ของชื่อวิชาและคะแนน (mock data)\"\"\"\n",
        "    return {\n",
        "        \"Math\": 88,\n",
        "        \"Physics\": 92,\n",
        "        \"Chemistry\": 85,\n",
        "        \"Biology\": 79,\n",
        "        \"English\": 91\n",
        "    }\n",
        "\n",
        "def calculate_average(score_dict):\n",
        "    \"\"\"คืนค่าเฉลี่ยของคะแนนทั้งหมด\"\"\"\n",
        "    total = sum(score_dict.values())\n",
        "    return total / len(score_dict)\n",
        "\n",
        "def find_top_subject(score_dict):\n",
        "    \"\"\"หาวิชาที่ได้คะแนนมากที่สุด\"\"\"\n",
        "    max_score = max(score_dict.values())\n",
        "    return [subject for subject, score in score_dict.items() if score == max_score]\n",
        "\n",
        "def plot_subject_scores(score_dict, highlight_subjects):\n",
        "    \"\"\"สร้าง bar chart และเน้นวิชาที่ได้คะแนนสูงสุดด้วยสีพิเศษ\"\"\"\n",
        "    subjects = list(score_dict.keys())\n",
        "    scores = list(score_dict.values())\n",
        "\n",
        "    colors = ['green' if subject in highlight_subjects else 'skyblue' for subject in subjects]\n",
        "\n",
        "    plt.figure(figsize=(10, 5))\n",
        "    plt.bar(subjects, scores, color=colors)\n",
        "    plt.title(\"Subject Scores\")\n",
        "    plt.ylabel(\"Score\")\n",
        "    plt.ylim(0, 100)\n",
        "    plt.axhline(60, color='red', linestyle='--', alpha=0.5, label='Passing Score')\n",
        "    plt.legend()\n",
        "    plt.grid(axis='y', linestyle=':', alpha=0.5)\n",
        "    plt.tight_layout()\n",
        "    plt.show()\n",
        "\n",
        "def display_summary(avg, top_subjects):\n",
        "    print(f\"Average Score: {avg:.2f}\")\n",
        "    print(f\"Top Subject(s): {', '.join(top_subjects)}\")\n",
        "\n",
        "def main():\n",
        "    scores = get_scores()\n",
        "    avg = calculate_average(scores)\n",
        "    top = find_top_subject(scores)\n",
        "    display_summary(avg, top)\n",
        "    plot_subject_scores(scores, top)\n",
        "\n",
        "# เรียกใช้งาน\n",
        "main()\n"
      ],
      "metadata": {
        "id": "eKrhtaMMx-5l"
      },
      "execution_count": null,
      "outputs": []
    },
    {
      "cell_type": "code",
      "source": [
        "import os,glob\n",
        "\n",
        "glob.glob(os.getcwd()+\"/*.png\")"
      ],
      "metadata": {
        "id": "c2WmO8sqvtWL"
      },
      "execution_count": null,
      "outputs": []
    },
    {
      "cell_type": "code",
      "source": [
        "from skimage.io import imread\n",
        "from skimage.color import rgb2gray\n",
        "from skimage import measure\n",
        "import numpy as np\n",
        "import matplotlib.pyplot as plt\n",
        "import pandas as pd\n",
        "\n",
        "\n",
        "from skimage.io import imread\n",
        "from skimage.color import rgb2gray, rgba2rgb\n",
        "from skimage.util import invert\n",
        "from skimage import measure\n",
        "import matplotlib.pyplot as plt\n",
        "import pandas as pd\n",
        "import numpy as np\n",
        "\n",
        "def analyze_hotspots_from_image(image_path: str, threshold: int = 160, threshold_area: int = 30,\n",
        "                                 show_plot: bool = True, invert_image: bool = False, cmap: str = \"gray\"):\n",
        "    \"\"\"\n",
        "    Analyze hot or cold spots in a medical image, optionally with inversion and custom colormap.\n",
        "\n",
        "    Parameters:\n",
        "        image_path (str): Path to the image file (jpg, png, tif).\n",
        "        threshold (int): Intensity threshold for detecting regions.\n",
        "        threshold_area (int): Minimum area (in pixels) to include in the output.\n",
        "        show_plot (bool): Display original and binary mask images.\n",
        "        invert_image (bool): If True, invert grayscale image before thresholding.\n",
        "        cmap (str): Colormap for display (e.g., 'gray', 'hot', 'viridis').\n",
        "\n",
        "    Returns:\n",
        "        pd.DataFrame: Stats of regions passing threshold and area conditions.\n",
        "    \"\"\"\n",
        "    # Load and convert to grayscale\n",
        "    image = imread(image_path)\n",
        "    if image.ndim == 3 and image.shape[2] == 4:\n",
        "        image = rgba2rgb(image)\n",
        "    if image.ndim == 3:\n",
        "        image = rgb2gray(image)\n",
        "    image_scaled = (image * 255).astype(np.uint8)\n",
        "\n",
        "    # Optional inversion\n",
        "    if invert_image:\n",
        "        original = image_scaled\n",
        "        image_scaled = invert(image_scaled)\n",
        "\n",
        "\n",
        "    # Thresholding (intensity < threshold for cold spots, > threshold for hot spots)\n",
        "    binary_mask = image_scaled < threshold\n",
        "    labeled = measure.label(binary_mask)\n",
        "    regions = measure.regionprops(labeled, intensity_image=image_scaled)\n",
        "\n",
        "    # Collect regions meeting area requirement\n",
        "    results = []\n",
        "    for region in regions:\n",
        "        if region.area > threshold_area:\n",
        "            results.append({\n",
        "                'Total Count': region.intensity_image[region.image].sum(),\n",
        "                'Mean Count': region.mean_intensity,\n",
        "                'Area (pixels)': region.area\n",
        "            })\n",
        "\n",
        "    # Show images\n",
        "    if show_plot:\n",
        "        plt.figure(figsize=(12, 6))\n",
        "        plt.subplot(1, 2, 1)\n",
        "        plt.title(\"Original Image\" + (\" (Inverted)\" if invert_image else \"\"))\n",
        "        if invert_image:\n",
        "            plt.imshow(original, cmap='gray')\n",
        "        else:\n",
        "            plt.imshow(image_scaled, cmap='gray')\n",
        "        plt.axis('off')\n",
        "\n",
        "        plt.subplot(1, 2, 2)\n",
        "        plt.title(f\"Detected Spots (Threshold < {threshold}, Area > {threshold_area})\")\n",
        "        plt.imshow(image_scaled, cmap='gray')\n",
        "        plt.imshow(binary_mask, cmap=cmap, alpha=0.7)\n",
        "        plt.axis('off')\n",
        "\n",
        "        plt.tight_layout()\n",
        "        plt.show()\n",
        "\n",
        "    return pd.DataFrame(results)\n",
        "\n",
        "df = analyze_hotspots_from_image(\n",
        "    \"Thyroid.jpeg\",\n",
        "    threshold=140,\n",
        "    threshold_area=200,\n",
        "    invert_image=False,\n",
        "    cmap=\"Reds\"\n",
        ")\n"
      ],
      "metadata": {
        "id": "s43ehg4MydY7"
      },
      "execution_count": null,
      "outputs": []
    },
    {
      "cell_type": "code",
      "source": [
        "analyze_hotspots_from_image(\n",
        "    \"renal.jpeg\",\n",
        "    threshold=140,\n",
        "    threshold_area=200,\n",
        "    invert_image=False,\n",
        "    cmap=\"Reds\"\n",
        ")"
      ],
      "metadata": {
        "id": "VxOyMwAjxU1p"
      },
      "execution_count": null,
      "outputs": []
    },
    {
      "cell_type": "code",
      "source": [
        "analyze_hotspots_from_image(\n",
        "    \"renal_inverse.jpg\",\n",
        "    threshold=140,\n",
        "    threshold_area=200,\n",
        "    invert_image=True,\n",
        "    cmap=\"Reds\"\n",
        ")"
      ],
      "metadata": {
        "id": "u2T2chhU0UZ5"
      },
      "execution_count": null,
      "outputs": []
    },
    {
      "cell_type": "markdown",
      "source": [
        "# Types of parameters in function"
      ],
      "metadata": {
        "id": "NoO9HlugDZ7c"
      }
    },
    {
      "cell_type": "code",
      "source": [
        "# Positional arguments\n",
        "def greet(name, age):\n",
        "    print(f\"Hello {name}, you are {age} years old.\")\n",
        "\n",
        "greet(\"Alice\", 30)\n"
      ],
      "metadata": {
        "id": "OIXS7Q3Wo9Gi"
      },
      "execution_count": null,
      "outputs": []
    },
    {
      "cell_type": "code",
      "source": [
        "# Default parameters\n",
        "def greet(name, age=18):\n",
        "    print(f\"Hello {name}, you are {age} years old.\")\n",
        "\n",
        "greet(\"Bob\")          # Uses default age = 18\n",
        "greet(\"Charlie\", 25)  # Overrides default age\n"
      ],
      "metadata": {
        "id": "P5x9ptlPo939"
      },
      "execution_count": null,
      "outputs": []
    },
    {
      "cell_type": "code",
      "source": [
        "# Keyword arguments\n",
        "def greet(name, age):\n",
        "    print(f\"Hello {name}, you are {age} years old.\")\n",
        "\n",
        "greet(age=22, name=\"Diana\")  # Order doesn't matter\n"
      ],
      "metadata": {
        "id": "jgKXUoCQpAa_"
      },
      "execution_count": null,
      "outputs": []
    },
    {
      "cell_type": "code",
      "source": [
        "# introduce * (Asterisk) and ** (Double asterisk)\n",
        "area = 5 * 4\n",
        "print(area)\n",
        "\n",
        "stars = '*' * 5\n",
        "print(stars)\n",
        "\n",
        "repeat = [1] * 3\n",
        "print(repeat)\n",
        "\n",
        "def add_all(*numbers): # (positional args → *args)\n",
        "    return sum(numbers)\n",
        "\n",
        "print(add_all(1, 2, 3))\n",
        "\n",
        "a, *b, c = [1, 2, 3, 4, 5]\n",
        "print(a, b, c)\n",
        "\n",
        "def print_info(**kwargs): # (keyword args → **kwargs)\n",
        "    for key, value in kwargs.items():\n",
        "        print(key, \"=\", value)\n",
        "\n",
        "print_info(name=\"Alice\", age=30)\n",
        "\n",
        "defaults = {'font': 'Arial', 'size': 12}\n",
        "settings = {**defaults, 'size': 14}\n",
        "print(settings)"
      ],
      "metadata": {
        "id": "R856-dQoVWXO"
      },
      "execution_count": null,
      "outputs": []
    },
    {
      "cell_type": "code",
      "source": [
        "# non-Keyword variable arguments (*args)\n",
        "def add_numbers(*args):\n",
        "    total = sum(args)\n",
        "    print(f\"Total: {total}\")\n",
        "\n",
        "add_numbers(1, 2, 3)\n",
        "add_numbers(10, 20)\n"
      ],
      "metadata": {
        "id": "hhCabZ_upCBi"
      },
      "execution_count": null,
      "outputs": []
    },
    {
      "cell_type": "code",
      "source": [
        "# Keyword variable arguments (*kwargs)\n",
        "def print_info(**kwargs):\n",
        "    for key, value in kwargs.items():\n",
        "        print(f\"{key}: {value}\")\n",
        "\n",
        "print_info(name=\"Emma\", age=28, country=\"USA\")\n"
      ],
      "metadata": {
        "id": "pcN83QECpEPg"
      },
      "execution_count": null,
      "outputs": []
    },
    {
      "cell_type": "code",
      "source": [
        "def full_example(name, age=18, *args, **kwargs):\n",
        "    print(f\"Name: {name}\")\n",
        "    print(f\"Age: {age}\")\n",
        "    print(f\"Additional positional args: {args}\")\n",
        "    print(f\"Additional keyword args: {kwargs}\")\n",
        "\n",
        "full_example(\"Zoe\", 21, \"student\", \"engineer\", city=\"Bangkok\", hobby=\"coding\")\n"
      ],
      "metadata": {
        "id": "--2R_FoEpF-2"
      },
      "execution_count": null,
      "outputs": []
    },
    {
      "cell_type": "markdown",
      "source": [
        "# Debugging"
      ],
      "metadata": {
        "id": "KGLYzUuPFGdH"
      }
    },
    {
      "cell_type": "code",
      "source": [
        "def multiply(a, b=2):\n",
        "    return a * b\n",
        "\n",
        "print(multiply(5))\n",
        "print(multiply(3, 4))\n"
      ],
      "metadata": {
        "id": "O3h1oBRtpIrg"
      },
      "execution_count": null,
      "outputs": []
    },
    {
      "cell_type": "code",
      "source": [
        "def greet(name=\"Guest\", age):\n",
        "    print(f\"Hello {name}, you are {age} years old.\")\n"
      ],
      "metadata": {
        "id": "8P_iqopCpZsX"
      },
      "execution_count": null,
      "outputs": []
    },
    {
      "cell_type": "code",
      "source": [
        "def greet(age, name=\"Guest\"):\n",
        "    print(f\"Hello {name}, you are {age} years old.\")\n"
      ],
      "metadata": {
        "id": "wWAEsrfSpgR2"
      },
      "execution_count": null,
      "outputs": []
    },
    {
      "cell_type": "code",
      "source": [
        "def mystery(x, y):\n",
        "    if x > y:\n",
        "        return x - y\n",
        "    elif x == y:\n",
        "        return \"Equal\"\n",
        "    else:\n",
        "        print(\"No return executed\")\n",
        "\n",
        "result = mystery(2, 5) # Hard-coded output\n",
        "print(\"Result:\", result) # ให้สังเกตุการใช้ print and return ว่าควรใช้อะไรเมื่อไร\n"
      ],
      "metadata": {
        "id": "FWuZU5djpiQB"
      },
      "execution_count": null,
      "outputs": []
    },
    {
      "cell_type": "code",
      "source": [
        "def analyze_numbers(*args):\n",
        "    total = 0\n",
        "    for num in args:\n",
        "        if isinstance(num, int):\n",
        "            if num % 2 == 0:\n",
        "                total += num\n",
        "            else:\n",
        "                total -= num\n",
        "    return total\n",
        "\n",
        "result = analyze_numbers(10, 3, 4, '7', 5, 8)\n",
        "print(\"Final result:\", result)\n",
        "\n"
      ],
      "metadata": {
        "id": "y-ZvbGlGpk4k"
      },
      "execution_count": null,
      "outputs": []
    },
    {
      "cell_type": "code",
      "source": [
        "def func(a, b=10, *args, **kwargs):\n",
        "    print(\"a:\", a)\n",
        "    print(\"b:\", b)\n",
        "    print(\"args:\", args)\n",
        "    print(\"kwargs:\", kwargs)\n",
        "\n",
        "func(1, *(2, 3, 4), d=5, b=20) # recall positional and keyword"
      ],
      "metadata": {
        "id": "5VMFVMWopqAf"
      },
      "execution_count": null,
      "outputs": []
    },
    {
      "cell_type": "code",
      "source": [
        "func(1, 2, 3, 4, d=5, b=20)"
      ],
      "metadata": {
        "id": "dhOp4wigqGiD"
      },
      "execution_count": null,
      "outputs": []
    },
    {
      "cell_type": "code",
      "source": [
        "func(1, *(2, 3, 4), d=5)"
      ],
      "metadata": {
        "id": "vtnl3fyEpvop"
      },
      "execution_count": null,
      "outputs": []
    },
    {
      "cell_type": "code",
      "source": [
        "def normalize(value, min_value=0, max_value=100):\n",
        "    if max_value == min_value:\n",
        "        return 0\n",
        "    return (value - min_value) / (max_value - min_value)\n"
      ],
      "metadata": {
        "id": "dkl8cIe4qLoO"
      },
      "execution_count": null,
      "outputs": []
    },
    {
      "cell_type": "code",
      "source": [
        "print(normalize(75, 0, 100))\n",
        "print(normalize(50, 50, 50))\n"
      ],
      "metadata": {
        "id": "LOak33BTqmdN"
      },
      "execution_count": null,
      "outputs": []
    },
    {
      "cell_type": "markdown",
      "source": [
        "# Import developed functions by myself"
      ],
      "metadata": {
        "id": "agn3pITfGXeA"
      }
    },
    {
      "cell_type": "code",
      "source": [
        "glob.glob(os.getcwd()+\"/../*\")"
      ],
      "metadata": {
        "id": "nRjcJlPJGj35"
      },
      "execution_count": null,
      "outputs": []
    },
    {
      "cell_type": "code",
      "source": [
        "glob.glob(os.getcwd()+'/u*/*')"
      ],
      "metadata": {
        "id": "Ph5jf9ifK4CT"
      },
      "execution_count": null,
      "outputs": []
    },
    {
      "cell_type": "code",
      "source": [
        "import sys\n",
        "sys.path.append('/content/drive/MyDrive/SIRA_601/MyCode/utils') # add python path\n"
      ],
      "metadata": {
        "id": "L7zYYFJ3L9nY"
      },
      "execution_count": null,
      "outputs": []
    },
    {
      "cell_type": "code",
      "source": [
        "import my_utility\n",
        "\n",
        "# simulate image\n",
        "image = np.random.randint(0, 255, size=(200, 200)).astype(np.uint8)\n",
        "\n",
        "# call my_utility.py\n",
        "hotspots = my_utility.detect_hotspots(image, threshold=200)\n",
        "profile = my_utility.analyze_intensity_profile(image, axis=1)\n",
        "\n",
        "print(\"Hotspots Detected:\", hotspots[:2])\n",
        "print(\"Profile Shape:\", profile.shape)"
      ],
      "metadata": {
        "id": "a1_E97C3Rhdt"
      },
      "execution_count": null,
      "outputs": []
    },
    {
      "cell_type": "code",
      "source": [
        "import my_utility as myutil\n",
        "myutil.analyze_intensity_profile(image, axis=1).shape"
      ],
      "metadata": {
        "id": "-rUiu06_RzWG"
      },
      "execution_count": null,
      "outputs": []
    },
    {
      "cell_type": "code",
      "source": [],
      "metadata": {
        "id": "PoTg3tgKR_9N"
      },
      "execution_count": null,
      "outputs": []
    }
  ]
}